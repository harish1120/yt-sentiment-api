{
 "cells": [
  {
   "cell_type": "code",
   "execution_count": 20,
   "id": "a7a864ef",
   "metadata": {},
   "outputs": [
    {
     "name": "stderr",
     "output_type": "stream",
     "text": [
      "/Users/harishsundaralingam/myworkspace/sentiment_analysis/venv/lib/python3.12/site-packages/tqdm/auto.py:21: TqdmWarning: IProgress not found. Please update jupyter and ipywidgets. See https://ipywidgets.readthedocs.io/en/stable/user_install.html\n",
      "  from .autonotebook import tqdm as notebook_tqdm\n"
     ]
    }
   ],
   "source": [
    "import pandas as pd\n",
    "import xgboost as xgb\n",
    "from sklearn.model_selection import train_test_split\n",
    "from sklearn.feature_extraction.text import TfidfVectorizer\n",
    "from imblearn.over_sampling import SMOTE\n",
    "from sklearn.metrics import accuracy_score, classification_report\n",
    "import optuna"
   ]
  },
  {
   "cell_type": "code",
   "execution_count": 21,
   "id": "7a5bd49b",
   "metadata": {},
   "outputs": [
    {
     "data": {
      "text/plain": [
       "(36662, 2)"
      ]
     },
     "execution_count": 21,
     "metadata": {},
     "output_type": "execute_result"
    }
   ],
   "source": [
    "df = pd.read_csv('/Users/harishsundaralingam/myworkspace/sentiment_analysis/model_notebooks/dataset.csv').dropna(subset=['clean_comment'])\n",
    "df.shape"
   ]
  },
  {
   "cell_type": "code",
   "execution_count": 22,
   "id": "db4fe11f",
   "metadata": {},
   "outputs": [],
   "source": [
    "import mlflow\n",
    "# Step 2: Set up the MLflow tracking server\n",
    "mlflow.set_tracking_uri(\"http://127.0.0.1:5000\")"
   ]
  },
  {
   "cell_type": "code",
   "execution_count": 23,
   "id": "95e7a7ea",
   "metadata": {},
   "outputs": [
    {
     "data": {
      "text/plain": [
       "<Experiment: artifact_location='mlflow-artifacts:/309646884127018700', creation_time=1755036041652, experiment_id='309646884127018700', last_update_time=1755036041652, lifecycle_stage='active', name='XGBoost', tags={}>"
      ]
     },
     "execution_count": 23,
     "metadata": {},
     "output_type": "execute_result"
    }
   ],
   "source": [
    "# Set or create an experiment\n",
    "mlflow.set_experiment(\"XGBoost\")"
   ]
  },
  {
   "cell_type": "code",
   "execution_count": 24,
   "id": "2691313d",
   "metadata": {},
   "outputs": [],
   "source": [
    "df['category'] = df['category'].map({-1: 2, 0: 0, 1: 1})"
   ]
  },
  {
   "cell_type": "code",
   "execution_count": 25,
   "id": "076818f4",
   "metadata": {},
   "outputs": [],
   "source": [
    "df = df.dropna(subset=['category'])"
   ]
  },
  {
   "cell_type": "code",
   "execution_count": 26,
   "id": "a88412ea",
   "metadata": {},
   "outputs": [],
   "source": [
    "ngram_range = (1, 3)  # Trigram setting\n",
    "max_features = 10000  # Set max_features to 1000 for TF-IDF"
   ]
  },
  {
   "cell_type": "code",
   "execution_count": 27,
   "id": "668463ba",
   "metadata": {},
   "outputs": [],
   "source": [
    "# Step 4: Train-test split before vectorization and resampling\n",
    "X_train, X_test, y_train, y_test = train_test_split(df['clean_comment'], df['category'], test_size=0.2, random_state=42, stratify=df['category'])"
   ]
  },
  {
   "cell_type": "code",
   "execution_count": 28,
   "id": "daa3a207",
   "metadata": {},
   "outputs": [],
   "source": [
    "# Step 2: Vectorization using TF-IDF, fit on training data only\n",
    "vectorizer = TfidfVectorizer(ngram_range=ngram_range, max_features=max_features)\n",
    "X_train_vec = vectorizer.fit_transform(X_train)  # Fit on training data\n",
    "X_test_vec = vectorizer.transform(X_test)  # Transform test data"
   ]
  },
  {
   "cell_type": "code",
   "execution_count": 29,
   "id": "4c87e1fa",
   "metadata": {},
   "outputs": [],
   "source": [
    "smote = SMOTE(random_state=42)\n",
    "X_train_vec, y_train = smote.fit_resample(X_train_vec, y_train)"
   ]
  },
  {
   "cell_type": "code",
   "execution_count": 40,
   "id": "ed54aae5",
   "metadata": {},
   "outputs": [
    {
     "data": {
      "text/plain": [
       "<Compressed Sparse Row sparse matrix of dtype 'float64'\n",
       "\twith 612381 stored elements and shape (37848, 10000)>"
      ]
     },
     "execution_count": 40,
     "metadata": {},
     "output_type": "execute_result"
    }
   ],
   "source": [
    "X_train_vec"
   ]
  },
  {
   "cell_type": "code",
   "execution_count": 30,
   "id": "880f13bc",
   "metadata": {},
   "outputs": [],
   "source": [
    "def log_mlflow(model_name, model, X_train, X_test, y_train, y_test):\n",
    "    with mlflow.start_run():\n",
    "        # Log model type\n",
    "        mlflow.set_tag(\"mlflow.runName\", f\"{model_name}_SMOTE_TFIDF_Trigrams\")\n",
    "        mlflow.set_tag(\"experiment_type\", \"algorithm_comparison\")\n",
    "\n",
    "        # Log algorithm name as a parameter\n",
    "        mlflow.log_param(\"algo_name\", model_name)\n",
    "\n",
    "        # Train model\n",
    "        model.fit(X_train, y_train)\n",
    "        y_pred = model.predict(X_test)\n",
    "\n",
    "        # Log accuracy\n",
    "        accuracy = accuracy_score(y_test, y_pred)\n",
    "        mlflow.log_metric(\"accuracy\", accuracy)\n",
    "\n",
    "        # Log classification report\n",
    "        classification_rep = classification_report(y_test, y_pred, output_dict=True)\n",
    "        for label, metrics in classification_rep.items():\n",
    "            if isinstance(metrics, dict):\n",
    "                for metric, value in metrics.items():\n",
    "                    mlflow.log_metric(f\"{label}_{metric}\", value)\n",
    "\n",
    "        # Log the model\n",
    "        mlflow.sklearn.log_model(model, f\"{model_name}_model\")"
   ]
  },
  {
   "cell_type": "code",
   "execution_count": 41,
   "id": "f87c2ab1",
   "metadata": {},
   "outputs": [],
   "source": [
    "def objective(trial):\n",
    "    params = {\n",
    "        'objective': 'multi:softprob',\n",
    "        'num_class': 3,  # Adjust based on your number of classes\n",
    "        'eval_metric': 'mlogloss',\n",
    "        'booster': 'gbtree',\n",
    "        'max_depth': trial.suggest_int('max_depth', 3, 12),\n",
    "        'learning_rate': trial.suggest_float('learning_rate', 0.01, 0.3),\n",
    "        'n_estimators': trial.suggest_int('n_estimators', 100, 1000),\n",
    "        'subsample': trial.suggest_float('subsample', 0.5, 1.0),\n",
    "        'colsample_bytree': trial.suggest_float('colsample_bytree', 0.5, 1.0),\n",
    "        'gamma': trial.suggest_float('gamma', 0, 10),\n",
    "        'reg_alpha': trial.suggest_float('reg_alpha', 0, 5),\n",
    "        'reg_lambda': trial.suggest_float('reg_lambda', 0, 5),\n",
    "        'random_state': 42\n",
    "    }\n",
    "    \n",
    "    model = xgb.XGBClassifier(**params)\n",
    "    model.fit(\n",
    "        X_train_vec, y_train,\n",
    "        verbose=False\n",
    "    )\n",
    "    preds = model.predict(X_test_vec)\n",
    "    accuracy = accuracy_score(y_test, preds)\n",
    "    \n",
    "    # Return negative accuracy since Optuna minimizes\n",
    "    return -accuracy"
   ]
  },
  {
   "cell_type": "code",
   "execution_count": 42,
   "id": "d49a0768",
   "metadata": {},
   "outputs": [
    {
     "name": "stderr",
     "output_type": "stream",
     "text": [
      "[I 2025-08-12 18:27:48,621] A new study created in memory with name: no-name-2d45db36-fbbf-4062-9dbe-5cb562b8059a\n",
      "[I 2025-08-12 18:28:21,841] Trial 0 finished with value: -0.8300831855993455 and parameters: {'max_depth': 11, 'learning_rate': 0.23163850944424702, 'n_estimators': 929, 'subsample': 0.6935714077952102, 'colsample_bytree': 0.6163141784293505, 'gamma': 2.4793588852520787, 'reg_alpha': 3.402883649301037, 'reg_lambda': 0.5452285824696057}. Best is trial 0 with value: -0.8300831855993455.\n",
      "[I 2025-08-12 18:28:53,772] Trial 1 finished with value: -0.8558570844129278 and parameters: {'max_depth': 11, 'learning_rate': 0.24568736141295838, 'n_estimators': 608, 'subsample': 0.84118327232876, 'colsample_bytree': 0.7498628507938736, 'gamma': 4.217792442920924, 'reg_alpha': 0.43287235907399635, 'reg_lambda': 0.02812355205783157}. Best is trial 1 with value: -0.8558570844129278.\n",
      "[I 2025-08-12 18:29:19,664] Trial 2 finished with value: -0.8074457929905905 and parameters: {'max_depth': 9, 'learning_rate': 0.1888421646097531, 'n_estimators': 835, 'subsample': 0.7776270566322272, 'colsample_bytree': 0.7316531301090319, 'gamma': 4.88197448696075, 'reg_alpha': 4.9195148774521105, 'reg_lambda': 0.02894872390027614}. Best is trial 1 with value: -0.8558570844129278.\n",
      "[I 2025-08-12 18:29:27,574] Trial 3 finished with value: -0.7738988135824356 and parameters: {'max_depth': 3, 'learning_rate': 0.21195458497842268, 'n_estimators': 240, 'subsample': 0.839913395873141, 'colsample_bytree': 0.5709789541799534, 'gamma': 7.461672355237563, 'reg_alpha': 4.834213184411925, 'reg_lambda': 3.255420931021955}. Best is trial 1 with value: -0.8558570844129278.\n",
      "[I 2025-08-12 18:30:58,924] Trial 4 finished with value: -0.8359470885040229 and parameters: {'max_depth': 12, 'learning_rate': 0.06230937040793018, 'n_estimators': 757, 'subsample': 0.7213162363197712, 'colsample_bytree': 0.5642789124060777, 'gamma': 1.7751638283855276, 'reg_alpha': 1.517018559186953, 'reg_lambda': 4.639007190922082}. Best is trial 1 with value: -0.8558570844129278.\n",
      "[I 2025-08-12 18:31:09,690] Trial 5 finished with value: -0.7894449747715805 and parameters: {'max_depth': 9, 'learning_rate': 0.2005158105418484, 'n_estimators': 350, 'subsample': 0.5236367834141997, 'colsample_bytree': 0.6832703308520909, 'gamma': 9.357688985521772, 'reg_alpha': 0.6745356835865418, 'reg_lambda': 3.6265833817218556}. Best is trial 1 with value: -0.8558570844129278.\n",
      "[I 2025-08-12 18:32:01,075] Trial 6 finished with value: -0.7846720305468431 and parameters: {'max_depth': 10, 'learning_rate': 0.0592659913447205, 'n_estimators': 275, 'subsample': 0.7976509929327558, 'colsample_bytree': 0.6368107806491284, 'gamma': 0.5532104972484786, 'reg_alpha': 3.533164798543699, 'reg_lambda': 0.6385537086161791}. Best is trial 1 with value: -0.8558570844129278.\n",
      "[I 2025-08-12 18:32:26,784] Trial 7 finished with value: -0.7211236874403382 and parameters: {'max_depth': 8, 'learning_rate': 0.023578669661814728, 'n_estimators': 262, 'subsample': 0.7102037421906029, 'colsample_bytree': 0.5664740962112145, 'gamma': 3.6503439887244515, 'reg_alpha': 2.129103886275436, 'reg_lambda': 2.4865480214466906}. Best is trial 1 with value: -0.8558570844129278.\n",
      "[I 2025-08-12 18:33:21,839] Trial 8 finished with value: -0.8032183281058229 and parameters: {'max_depth': 8, 'learning_rate': 0.050597697637705934, 'n_estimators': 977, 'subsample': 0.612047303449469, 'colsample_bytree': 0.6436023973900232, 'gamma': 5.246564929430271, 'reg_alpha': 3.140578834371669, 'reg_lambda': 0.8533205654976744}. Best is trial 1 with value: -0.8558570844129278.\n",
      "[I 2025-08-12 18:33:34,075] Trial 9 finished with value: -0.7812627846720306 and parameters: {'max_depth': 9, 'learning_rate': 0.12432939660233513, 'n_estimators': 154, 'subsample': 0.6375707799599533, 'colsample_bytree': 0.5420949818600167, 'gamma': 7.207446222245308, 'reg_alpha': 2.665240009715722, 'reg_lambda': 2.136862592583583}. Best is trial 1 with value: -0.8558570844129278.\n",
      "[I 2025-08-12 18:33:55,962] Trial 10 finished with value: -0.8355379789990454 and parameters: {'max_depth': 5, 'learning_rate': 0.2987291552123824, 'n_estimators': 567, 'subsample': 0.9696623778233663, 'colsample_bytree': 0.8740144511049972, 'gamma': 6.102943028182569, 'reg_alpha': 0.19140823224115833, 'reg_lambda': 1.6957918779996917}. Best is trial 1 with value: -0.8558570844129278.\n",
      "[I 2025-08-12 18:35:55,446] Trial 11 finished with value: -0.8565389335878903 and parameters: {'max_depth': 12, 'learning_rate': 0.1296270284076159, 'n_estimators': 681, 'subsample': 0.8952457385251261, 'colsample_bytree': 0.8607873846614573, 'gamma': 0.9078553653103536, 'reg_alpha': 1.2864670389101565, 'reg_lambda': 4.919326040481931}. Best is trial 11 with value: -0.8565389335878903.\n",
      "[I 2025-08-12 18:38:03,399] Trial 12 finished with value: -0.8562661939179054 and parameters: {'max_depth': 12, 'learning_rate': 0.1309113890730751, 'n_estimators': 585, 'subsample': 0.8929286728289618, 'colsample_bytree': 0.8714044159991018, 'gamma': 0.49623824055846705, 'reg_alpha': 1.1420431368086161, 'reg_lambda': 4.98952753609024}. Best is trial 11 with value: -0.8565389335878903.\n",
      "[I 2025-08-12 18:39:42,390] Trial 13 finished with value: -0.8480840038183554 and parameters: {'max_depth': 12, 'learning_rate': 0.12404655840394307, 'n_estimators': 474, 'subsample': 0.963009434905749, 'colsample_bytree': 0.8976260830904023, 'gamma': 0.6084665359708066, 'reg_alpha': 1.3648029924739478, 'reg_lambda': 4.785103933148992}. Best is trial 11 with value: -0.8565389335878903.\n",
      "[I 2025-08-12 18:40:50,762] Trial 14 finished with value: -0.8363561980090004 and parameters: {'max_depth': 5, 'learning_rate': 0.1286852046622658, 'n_estimators': 680, 'subsample': 0.9039104012556569, 'colsample_bytree': 0.964509455994538, 'gamma': 0.08410590923135125, 'reg_alpha': 1.235359098808228, 'reg_lambda': 4.064154949534057}. Best is trial 11 with value: -0.8565389335878903.\n",
      "[I 2025-08-12 18:41:40,507] Trial 15 finished with value: -0.8373107868539479 and parameters: {'max_depth': 12, 'learning_rate': 0.16427631660222236, 'n_estimators': 447, 'subsample': 0.9052627959067305, 'colsample_bytree': 0.833081442970868, 'gamma': 2.1605974031364945, 'reg_alpha': 2.2271428554697708, 'reg_lambda': 4.965114992796632}. Best is trial 11 with value: -0.8565389335878903.\n",
      "[I 2025-08-12 18:42:40,779] Trial 16 finished with value: -0.8298104459293604 and parameters: {'max_depth': 6, 'learning_rate': 0.09116300603497862, 'n_estimators': 704, 'subsample': 0.9035211945758512, 'colsample_bytree': 0.8199335841672364, 'gamma': 3.080314691506516, 'reg_alpha': 0.9881522599361601, 'reg_lambda': 4.037712967801445}. Best is trial 11 with value: -0.8565389335878903.\n",
      "[I 2025-08-12 18:43:52,319] Trial 17 finished with value: -0.8489022228283104 and parameters: {'max_depth': 10, 'learning_rate': 0.161105487182174, 'n_estimators': 473, 'subsample': 0.9947259204771532, 'colsample_bytree': 0.9893528756650041, 'gamma': 1.4501943460169981, 'reg_alpha': 1.833699277561553, 'reg_lambda': 3.0888367268252006}. Best is trial 11 with value: -0.8565389335878903.\n",
      "[I 2025-08-12 18:46:20,451] Trial 18 finished with value: -0.8611755079776353 and parameters: {'max_depth': 11, 'learning_rate': 0.09177185181094655, 'n_estimators': 847, 'subsample': 0.837623138448082, 'colsample_bytree': 0.93132206077289, 'gamma': 1.3333881800717446, 'reg_alpha': 0.07188612985453702, 'reg_lambda': 4.353761449390493}. Best is trial 18 with value: -0.8611755079776353.\n",
      "[I 2025-08-12 18:47:46,203] Trial 19 finished with value: -0.8506750306832128 and parameters: {'max_depth': 10, 'learning_rate': 0.08928136464083378, 'n_estimators': 847, 'subsample': 0.8454495563947844, 'colsample_bytree': 0.9448066995244495, 'gamma': 3.01303074687844, 'reg_alpha': 0.11411876989585723, 'reg_lambda': 4.10891364991657}. Best is trial 18 with value: -0.8611755079776353.\n"
     ]
    },
    {
     "name": "stdout",
     "output_type": "stream",
     "text": [
      "Best trial:\n",
      "Value: -0.8611755079776353\n",
      "Params:\n",
      "  max_depth: 11\n",
      "  learning_rate: 0.09177185181094655\n",
      "  n_estimators: 847\n",
      "  subsample: 0.837623138448082\n",
      "  colsample_bytree: 0.93132206077289\n",
      "  gamma: 1.3333881800717446\n",
      "  reg_alpha: 0.07188612985453702\n",
      "  reg_lambda: 4.353761449390493\n"
     ]
    }
   ],
   "source": [
    "study = optuna.create_study(direction='minimize')  # or 'maximize' for accuracy\n",
    "study.optimize(objective, n_trials=20)  # Adjust n_trials as needed\n",
    "\n",
    "# Print results\n",
    "print(\"Best trial:\")\n",
    "print(f\"Value: {study.best_trial.value}\")\n",
    "print(\"Params:\")\n",
    "for key, value in study.best_trial.params.items():\n",
    "    print(f\"  {key}: {value}\")"
   ]
  },
  {
   "cell_type": "code",
   "execution_count": 43,
   "id": "3c1cf750",
   "metadata": {},
   "outputs": [
    {
     "name": "stderr",
     "output_type": "stream",
     "text": [
      "2025/08/12 18:50:53 WARNING mlflow.models.model: `artifact_path` is deprecated. Please use `name` instead.\n",
      "\u001b[31m2025/08/12 18:50:56 WARNING mlflow.models.model: Model logged without a signature and input example. Please set `input_example` parameter when logging the model to auto infer the model signature.\u001b[0m\n"
     ]
    },
    {
     "name": "stdout",
     "output_type": "stream",
     "text": [
      "🏃 View run XGBoost_SMOTE_TFIDF_Trigrams at: http://127.0.0.1:5000/#/experiments/309646884127018700/runs/b1332395a24541158d0a4aad64a2af26\n",
      "🧪 View experiment at: http://127.0.0.1:5000/#/experiments/309646884127018700\n"
     ]
    }
   ],
   "source": [
    "best_params = study.best_params\n",
    "best_model = xgb.XGBClassifier(n_estimators=best_params['n_estimators'], learning_rate=best_params['learning_rate'], max_depth=best_params['max_depth'], random_state=42)\n",
    "\n",
    "# Log the best model with MLflow, passing the algo_name as \"xgboost\"\n",
    "log_mlflow(\"XGBoost\", best_model, X_train_vec, X_test_vec, y_train, y_test)"
   ]
  },
  {
   "cell_type": "code",
   "execution_count": null,
   "id": "a221648d",
   "metadata": {},
   "outputs": [],
   "source": []
  }
 ],
 "metadata": {
  "kernelspec": {
   "display_name": "venv",
   "language": "python",
   "name": "python3"
  },
  "language_info": {
   "codemirror_mode": {
    "name": "ipython",
    "version": 3
   },
   "file_extension": ".py",
   "mimetype": "text/x-python",
   "name": "python",
   "nbconvert_exporter": "python",
   "pygments_lexer": "ipython3",
   "version": "3.12.2"
  }
 },
 "nbformat": 4,
 "nbformat_minor": 5
}
